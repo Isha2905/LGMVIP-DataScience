{
 "cells": [
  {
   "cell_type": "markdown",
   "id": "9c2d5ad4",
   "metadata": {},
   "source": [
    "# LETS GROW MORE VIRTUAL INTERNSHIP PROGRAM(DECEMBER 2021)"
   ]
  },
  {
   "cell_type": "markdown",
   "id": "9ae5d7bc",
   "metadata": {},
   "source": [
    "# TASK 1: Stock Market Prediction And Forecasting Using Stacked LSTM (Beginner level task)"
   ]
  },
  {
   "cell_type": "markdown",
   "id": "43c9ea6c",
   "metadata": {},
   "source": [
    "# NAME:Isha Rani"
   ]
  },
  {
   "cell_type": "markdown",
   "id": "3b008bdd",
   "metadata": {},
   "source": [
    "IMPORTING LIBRARIES\n"
   ]
  },
  {
   "cell_type": "code",
   "execution_count": 1,
   "id": "1adbdc9a",
   "metadata": {},
   "outputs": [],
   "source": [
    "import pandas as pd\n",
    "import numpy as np\n",
    "import matplotlib.pyplot as plt\n",
    "%matplotlib inline"
   ]
  },
  {
   "cell_type": "markdown",
   "id": "d13c2d82",
   "metadata": {},
   "source": [
    "READING DATA"
   ]
  },
  {
   "cell_type": "code",
   "execution_count": 2,
   "id": "262a749e",
   "metadata": {},
   "outputs": [
    {
     "data": {
      "text/html": [
       "<div>\n",
       "<style scoped>\n",
       "    .dataframe tbody tr th:only-of-type {\n",
       "        vertical-align: middle;\n",
       "    }\n",
       "\n",
       "    .dataframe tbody tr th {\n",
       "        vertical-align: top;\n",
       "    }\n",
       "\n",
       "    .dataframe thead th {\n",
       "        text-align: right;\n",
       "    }\n",
       "</style>\n",
       "<table border=\"1\" class=\"dataframe\">\n",
       "  <thead>\n",
       "    <tr style=\"text-align: right;\">\n",
       "      <th></th>\n",
       "      <th>Date</th>\n",
       "      <th>Open</th>\n",
       "      <th>High</th>\n",
       "      <th>Low</th>\n",
       "      <th>Last</th>\n",
       "      <th>Close</th>\n",
       "      <th>Total Trade Quantity</th>\n",
       "      <th>Turnover (Lacs)</th>\n",
       "    </tr>\n",
       "  </thead>\n",
       "  <tbody>\n",
       "    <tr>\n",
       "      <th>0</th>\n",
       "      <td>2018-09-28</td>\n",
       "      <td>234.05</td>\n",
       "      <td>235.95</td>\n",
       "      <td>230.20</td>\n",
       "      <td>233.50</td>\n",
       "      <td>233.75</td>\n",
       "      <td>3069914</td>\n",
       "      <td>7162.35</td>\n",
       "    </tr>\n",
       "    <tr>\n",
       "      <th>1</th>\n",
       "      <td>2018-09-27</td>\n",
       "      <td>234.55</td>\n",
       "      <td>236.80</td>\n",
       "      <td>231.10</td>\n",
       "      <td>233.80</td>\n",
       "      <td>233.25</td>\n",
       "      <td>5082859</td>\n",
       "      <td>11859.95</td>\n",
       "    </tr>\n",
       "    <tr>\n",
       "      <th>2</th>\n",
       "      <td>2018-09-26</td>\n",
       "      <td>240.00</td>\n",
       "      <td>240.00</td>\n",
       "      <td>232.50</td>\n",
       "      <td>235.00</td>\n",
       "      <td>234.25</td>\n",
       "      <td>2240909</td>\n",
       "      <td>5248.60</td>\n",
       "    </tr>\n",
       "    <tr>\n",
       "      <th>3</th>\n",
       "      <td>2018-09-25</td>\n",
       "      <td>233.30</td>\n",
       "      <td>236.75</td>\n",
       "      <td>232.00</td>\n",
       "      <td>236.25</td>\n",
       "      <td>236.10</td>\n",
       "      <td>2349368</td>\n",
       "      <td>5503.90</td>\n",
       "    </tr>\n",
       "    <tr>\n",
       "      <th>4</th>\n",
       "      <td>2018-09-24</td>\n",
       "      <td>233.55</td>\n",
       "      <td>239.20</td>\n",
       "      <td>230.75</td>\n",
       "      <td>234.00</td>\n",
       "      <td>233.30</td>\n",
       "      <td>3423509</td>\n",
       "      <td>7999.55</td>\n",
       "    </tr>\n",
       "  </tbody>\n",
       "</table>\n",
       "</div>"
      ],
      "text/plain": [
       "         Date    Open    High     Low    Last   Close  Total Trade Quantity  \\\n",
       "0  2018-09-28  234.05  235.95  230.20  233.50  233.75               3069914   \n",
       "1  2018-09-27  234.55  236.80  231.10  233.80  233.25               5082859   \n",
       "2  2018-09-26  240.00  240.00  232.50  235.00  234.25               2240909   \n",
       "3  2018-09-25  233.30  236.75  232.00  236.25  236.10               2349368   \n",
       "4  2018-09-24  233.55  239.20  230.75  234.00  233.30               3423509   \n",
       "\n",
       "   Turnover (Lacs)  \n",
       "0          7162.35  \n",
       "1         11859.95  \n",
       "2          5248.60  \n",
       "3          5503.90  \n",
       "4          7999.55  "
      ]
     },
     "execution_count": 2,
     "metadata": {},
     "output_type": "execute_result"
    }
   ],
   "source": [
    "data_set=pd.read_csv(\"https://raw.githubusercontent.com/mwitiderrick/stockprice/master/NSE-TATAGLOBAL.csv\")\n",
    "data_set.head()"
   ]
  },
  {
   "cell_type": "markdown",
   "id": "5e934ef9",
   "metadata": {},
   "source": [
    "RESETTING INDEX"
   ]
  },
  {
   "cell_type": "code",
   "execution_count": 3,
   "id": "1e3e4242",
   "metadata": {},
   "outputs": [
    {
     "data": {
      "text/html": [
       "<div>\n",
       "<style scoped>\n",
       "    .dataframe tbody tr th:only-of-type {\n",
       "        vertical-align: middle;\n",
       "    }\n",
       "\n",
       "    .dataframe tbody tr th {\n",
       "        vertical-align: top;\n",
       "    }\n",
       "\n",
       "    .dataframe thead th {\n",
       "        text-align: right;\n",
       "    }\n",
       "</style>\n",
       "<table border=\"1\" class=\"dataframe\">\n",
       "  <thead>\n",
       "    <tr style=\"text-align: right;\">\n",
       "      <th></th>\n",
       "      <th>index</th>\n",
       "      <th>Date</th>\n",
       "      <th>Open</th>\n",
       "      <th>High</th>\n",
       "      <th>Low</th>\n",
       "      <th>Last</th>\n",
       "      <th>Close</th>\n",
       "      <th>Total Trade Quantity</th>\n",
       "      <th>Turnover (Lacs)</th>\n",
       "    </tr>\n",
       "  </thead>\n",
       "  <tbody>\n",
       "    <tr>\n",
       "      <th>0</th>\n",
       "      <td>0</td>\n",
       "      <td>2018-09-28</td>\n",
       "      <td>234.05</td>\n",
       "      <td>235.95</td>\n",
       "      <td>230.20</td>\n",
       "      <td>233.50</td>\n",
       "      <td>233.75</td>\n",
       "      <td>3069914</td>\n",
       "      <td>7162.35</td>\n",
       "    </tr>\n",
       "    <tr>\n",
       "      <th>1</th>\n",
       "      <td>1</td>\n",
       "      <td>2018-09-27</td>\n",
       "      <td>234.55</td>\n",
       "      <td>236.80</td>\n",
       "      <td>231.10</td>\n",
       "      <td>233.80</td>\n",
       "      <td>233.25</td>\n",
       "      <td>5082859</td>\n",
       "      <td>11859.95</td>\n",
       "    </tr>\n",
       "    <tr>\n",
       "      <th>2</th>\n",
       "      <td>2</td>\n",
       "      <td>2018-09-26</td>\n",
       "      <td>240.00</td>\n",
       "      <td>240.00</td>\n",
       "      <td>232.50</td>\n",
       "      <td>235.00</td>\n",
       "      <td>234.25</td>\n",
       "      <td>2240909</td>\n",
       "      <td>5248.60</td>\n",
       "    </tr>\n",
       "    <tr>\n",
       "      <th>3</th>\n",
       "      <td>3</td>\n",
       "      <td>2018-09-25</td>\n",
       "      <td>233.30</td>\n",
       "      <td>236.75</td>\n",
       "      <td>232.00</td>\n",
       "      <td>236.25</td>\n",
       "      <td>236.10</td>\n",
       "      <td>2349368</td>\n",
       "      <td>5503.90</td>\n",
       "    </tr>\n",
       "    <tr>\n",
       "      <th>4</th>\n",
       "      <td>4</td>\n",
       "      <td>2018-09-24</td>\n",
       "      <td>233.55</td>\n",
       "      <td>239.20</td>\n",
       "      <td>230.75</td>\n",
       "      <td>234.00</td>\n",
       "      <td>233.30</td>\n",
       "      <td>3423509</td>\n",
       "      <td>7999.55</td>\n",
       "    </tr>\n",
       "    <tr>\n",
       "      <th>...</th>\n",
       "      <td>...</td>\n",
       "      <td>...</td>\n",
       "      <td>...</td>\n",
       "      <td>...</td>\n",
       "      <td>...</td>\n",
       "      <td>...</td>\n",
       "      <td>...</td>\n",
       "      <td>...</td>\n",
       "      <td>...</td>\n",
       "    </tr>\n",
       "    <tr>\n",
       "      <th>2030</th>\n",
       "      <td>2030</td>\n",
       "      <td>2010-07-27</td>\n",
       "      <td>117.60</td>\n",
       "      <td>119.50</td>\n",
       "      <td>112.00</td>\n",
       "      <td>118.80</td>\n",
       "      <td>118.65</td>\n",
       "      <td>586100</td>\n",
       "      <td>694.98</td>\n",
       "    </tr>\n",
       "    <tr>\n",
       "      <th>2031</th>\n",
       "      <td>2031</td>\n",
       "      <td>2010-07-26</td>\n",
       "      <td>120.10</td>\n",
       "      <td>121.00</td>\n",
       "      <td>117.10</td>\n",
       "      <td>117.10</td>\n",
       "      <td>117.60</td>\n",
       "      <td>658440</td>\n",
       "      <td>780.01</td>\n",
       "    </tr>\n",
       "    <tr>\n",
       "      <th>2032</th>\n",
       "      <td>2032</td>\n",
       "      <td>2010-07-23</td>\n",
       "      <td>121.80</td>\n",
       "      <td>121.95</td>\n",
       "      <td>120.25</td>\n",
       "      <td>120.35</td>\n",
       "      <td>120.65</td>\n",
       "      <td>281312</td>\n",
       "      <td>340.31</td>\n",
       "    </tr>\n",
       "    <tr>\n",
       "      <th>2033</th>\n",
       "      <td>2033</td>\n",
       "      <td>2010-07-22</td>\n",
       "      <td>120.30</td>\n",
       "      <td>122.00</td>\n",
       "      <td>120.25</td>\n",
       "      <td>120.75</td>\n",
       "      <td>120.90</td>\n",
       "      <td>293312</td>\n",
       "      <td>355.17</td>\n",
       "    </tr>\n",
       "    <tr>\n",
       "      <th>2034</th>\n",
       "      <td>2034</td>\n",
       "      <td>2010-07-21</td>\n",
       "      <td>122.10</td>\n",
       "      <td>123.00</td>\n",
       "      <td>121.05</td>\n",
       "      <td>121.10</td>\n",
       "      <td>121.55</td>\n",
       "      <td>658666</td>\n",
       "      <td>803.56</td>\n",
       "    </tr>\n",
       "  </tbody>\n",
       "</table>\n",
       "<p>2035 rows × 9 columns</p>\n",
       "</div>"
      ],
      "text/plain": [
       "      index        Date    Open    High     Low    Last   Close  \\\n",
       "0         0  2018-09-28  234.05  235.95  230.20  233.50  233.75   \n",
       "1         1  2018-09-27  234.55  236.80  231.10  233.80  233.25   \n",
       "2         2  2018-09-26  240.00  240.00  232.50  235.00  234.25   \n",
       "3         3  2018-09-25  233.30  236.75  232.00  236.25  236.10   \n",
       "4         4  2018-09-24  233.55  239.20  230.75  234.00  233.30   \n",
       "...     ...         ...     ...     ...     ...     ...     ...   \n",
       "2030   2030  2010-07-27  117.60  119.50  112.00  118.80  118.65   \n",
       "2031   2031  2010-07-26  120.10  121.00  117.10  117.10  117.60   \n",
       "2032   2032  2010-07-23  121.80  121.95  120.25  120.35  120.65   \n",
       "2033   2033  2010-07-22  120.30  122.00  120.25  120.75  120.90   \n",
       "2034   2034  2010-07-21  122.10  123.00  121.05  121.10  121.55   \n",
       "\n",
       "      Total Trade Quantity  Turnover (Lacs)  \n",
       "0                  3069914          7162.35  \n",
       "1                  5082859         11859.95  \n",
       "2                  2240909          5248.60  \n",
       "3                  2349368          5503.90  \n",
       "4                  3423509          7999.55  \n",
       "...                    ...              ...  \n",
       "2030                586100           694.98  \n",
       "2031                658440           780.01  \n",
       "2032                281312           340.31  \n",
       "2033                293312           355.17  \n",
       "2034                658666           803.56  \n",
       "\n",
       "[2035 rows x 9 columns]"
      ]
     },
     "execution_count": 3,
     "metadata": {},
     "output_type": "execute_result"
    }
   ],
   "source": [
    "df= data_set.reset_index()\n",
    "df\n"
   ]
  },
  {
   "cell_type": "markdown",
   "id": "45fa91bf",
   "metadata": {},
   "source": [
    "PLOTTING CLOSE VALUE GRAPH\n"
   ]
  },
  {
   "cell_type": "code",
   "execution_count": 4,
   "id": "4812a2f6",
   "metadata": {},
   "outputs": [
    {
     "data": {
      "text/plain": [
       "[<matplotlib.lines.Line2D at 0x1d36c112d30>]"
      ]
     },
     "execution_count": 4,
     "metadata": {},
     "output_type": "execute_result"
    },
    {
     "data": {
      "image/png": "[encoded data removed]",
      "text/plain": [
       "<Figure size 432x288 with 1 Axes>"
      ]
     },
     "metadata": {
      "needs_background": "light"
     },
     "output_type": "display_data"
    }
   ],
   "source": [
    "df_close = df[\"Close\"]\n",
    "plt.plot(df_close)\n"
   ]
  },
  {
   "cell_type": "markdown",
   "id": "1ee67f94",
   "metadata": {},
   "source": [
    "SCALING CLOSE VALUES\n"
   ]
  },
  {
   "cell_type": "code",
   "execution_count": 5,
   "id": "6a7b86c5",
   "metadata": {},
   "outputs": [
    {
     "data": {
      "text/plain": [
       "array([[0.62418301],\n",
       "       [0.62214052],\n",
       "       [0.62622549],\n",
       "       ...,\n",
       "       [0.1621732 ],\n",
       "       [0.16319444],\n",
       "       [0.16584967]])"
      ]
     },
     "execution_count": 5,
     "metadata": {},
     "output_type": "execute_result"
    }
   ],
   "source": [
    "from sklearn.preprocessing import MinMaxScaler\n",
    "scaler=MinMaxScaler(feature_range=(0,1))\n",
    "df_close=scaler.fit_transform(np.array(df_close).reshape(-1,1))\n",
    "df_close"
   ]
  },
  {
   "cell_type": "markdown",
   "id": "00bae16b",
   "metadata": {},
   "source": [
    "SPLITTING DATASET INTO TRAINING AND TESTING DATA\n"
   ]
  },
  {
   "cell_type": "code",
   "execution_count": 6,
   "id": "aaecd3ca",
   "metadata": {},
   "outputs": [],
   "source": [
    "training_size=int(len(df_close)*0.70)\n",
    "test_size=len(df_close)-training_size\n",
    "train_data,test_data=df_close[0:training_size,:],df_close[training_size:len(df_close),:1]"
   ]
  },
  {
   "cell_type": "code",
   "execution_count": 7,
   "id": "3f86013f",
   "metadata": {},
   "outputs": [
    {
     "data": {
      "text/plain": [
       "(1424, 611)"
      ]
     },
     "execution_count": 7,
     "metadata": {},
     "output_type": "execute_result"
    }
   ],
   "source": [
    "training_size,test_size"
   ]
  },
  {
   "cell_type": "markdown",
   "id": "fb61de32",
   "metadata": {},
   "source": [
    "DATA PREPROCESSING\n"
   ]
  },
  {
   "cell_type": "code",
   "execution_count": 8,
   "id": "2ab0aa83",
   "metadata": {},
   "outputs": [],
   "source": [
    "def create_dataset(dataset, time_step=1):\n",
    "    data_X, data_Y = [], []\n",
    "    for i in range(len(dataset)-time_step-1):\n",
    "     a = dataset[i:(i+time_step), 0]  \n",
    "     data_X.append(a)\n",
    "     data_Y.append(dataset[i + time_step, 0])\n",
    "    return np.array(data_X), np.array(data_Y)"
   ]
  },
  {
   "cell_type": "code",
   "execution_count": 9,
   "id": "dbd411fa",
   "metadata": {},
   "outputs": [],
   "source": [
    "time_step = 100\n",
    "X_train, y_train = create_dataset(train_data, time_step)\n",
    "X_test, y_test = create_dataset(test_data, time_step)"
   ]
  },
  {
   "cell_type": "markdown",
   "id": "12beb205",
   "metadata": {},
   "source": [
    "RESHAPING TRAIN & TEST DATASET"
   ]
  },
  {
   "cell_type": "code",
   "execution_count": 10,
   "id": "c592e647",
   "metadata": {},
   "outputs": [],
   "source": [
    "X_train =X_train.reshape(X_train.shape[0],X_train.shape[1] , 1)\n",
    "X_test = X_test.reshape(X_test.shape[0],X_test.shape[1] , 1)"
   ]
  },
  {
   "cell_type": "code",
   "execution_count": 11,
   "id": "d6b4969b",
   "metadata": {},
   "outputs": [
    {
     "data": {
      "text/plain": [
       "(1323, 100, 1)"
      ]
     },
     "execution_count": 11,
     "metadata": {},
     "output_type": "execute_result"
    }
   ],
   "source": [
    "X_train.shape"
   ]
  },
  {
   "cell_type": "code",
   "execution_count": 12,
   "id": "350ca9f9",
   "metadata": {},
   "outputs": [
    {
     "data": {
      "text/plain": [
       "(510, 100, 1)"
      ]
     },
     "execution_count": 12,
     "metadata": {},
     "output_type": "execute_result"
    }
   ],
   "source": [
    "X_test.shape"
   ]
  },
  {
   "cell_type": "markdown",
   "id": "4e6b4f45",
   "metadata": {},
   "source": [
    "IMPORTING REQUIRED LIBRARIES"
   ]
  },
  {
   "cell_type": "code",
   "execution_count": 13,
   "id": "777fa882",
   "metadata": {},
   "outputs": [],
   "source": [
    "from tensorflow.keras.models import Sequential\n",
    "from tensorflow.keras.layers import Dense\n",
    "from tensorflow.keras.layers import LSTM\n",
    "import tensorflow as tf\n",
    "\n"
   ]
  },
  {
   "cell_type": "code",
   "execution_count": 14,
   "id": "285174b4",
   "metadata": {},
   "outputs": [
    {
     "name": "stdout",
     "output_type": "stream",
     "text": [
      "Model: \"sequential\"\n",
      "_________________________________________________________________\n",
      "Layer (type)                 Output Shape              Param #   \n",
      "=================================================================\n",
      "lstm (LSTM)                  (None, 100, 50)           10400     \n",
      "_________________________________________________________________\n",
      "lstm_1 (LSTM)                (None, 100, 50)           20200     \n",
      "_________________________________________________________________\n",
      "lstm_2 (LSTM)                (None, 50)                20200     \n",
      "_________________________________________________________________\n",
      "dense (Dense)                (None, 1)                 51        \n",
      "=================================================================\n",
      "Total params: 50,851\n",
      "Trainable params: 50,851\n",
      "Non-trainable params: 0\n",
      "_________________________________________________________________\n"
     ]
    }
   ],
   "source": [
    "model=Sequential()\n",
    "model.add(LSTM(50,return_sequences=True,input_shape=(100,1)))\n",
    "model.add(LSTM(50,return_sequences=True))\n",
    "model.add(LSTM(50))\n",
    "model.add(Dense(1))\n",
    "model.compile(loss='mean_squared_error',optimizer='adam')\n",
    "model.summary()\n",
    "\n"
   ]
  },
  {
   "cell_type": "code",
   "execution_count": 15,
   "id": "f37f294d",
   "metadata": {},
   "outputs": [
    {
     "name": "stdout",
     "output_type": "stream",
     "text": [
      "Epoch 1/100\n",
      "21/21 [==============================] - 20s 938ms/step - loss: 0.0295 - val_loss: 0.0070\n",
      "Epoch 2/100\n",
      "21/21 [==============================] - 10s 465ms/step - loss: 0.0034 - val_loss: 0.0020\n",
      "Epoch 3/100\n",
      "21/21 [==============================] - 9s 413ms/step - loss: 0.0019 - val_loss: 0.0015\n",
      "Epoch 4/100\n",
      "21/21 [==============================] - 8s 403ms/step - loss: 0.0017 - val_loss: 0.0017\n",
      "Epoch 5/100\n",
      "21/21 [==============================] - 8s 370ms/step - loss: 0.0016 - val_loss: 0.0019\n",
      "Epoch 6/100\n",
      "21/21 [==============================] - 8s 368ms/step - loss: 0.0018 - val_loss: 0.0018\n",
      "Epoch 7/100\n",
      "21/21 [==============================] - 8s 366ms/step - loss: 0.0016 - val_loss: 0.0017\n",
      "Epoch 8/100\n",
      "21/21 [==============================] - 8s 369ms/step - loss: 0.0014 - val_loss: 0.0013\n",
      "Epoch 9/100\n",
      "21/21 [==============================] - 9s 417ms/step - loss: 0.0013 - val_loss: 0.0012\n",
      "Epoch 10/100\n",
      "21/21 [==============================] - 8s 363ms/step - loss: 0.0012 - val_loss: 0.0012\n",
      "Epoch 11/100\n",
      "21/21 [==============================] - 8s 368ms/step - loss: 0.0012 - val_loss: 9.6890e-04\n",
      "Epoch 12/100\n",
      "21/21 [==============================] - 7s 347ms/step - loss: 0.0011 - val_loss: 0.0011\n",
      "Epoch 13/100\n",
      "21/21 [==============================] - 8s 382ms/step - loss: 0.0010 - val_loss: 7.1838e-04\n",
      "Epoch 14/100\n",
      "21/21 [==============================] - 8s 380ms/step - loss: 0.0012 - val_loss: 9.5570e-04\n",
      "Epoch 15/100\n",
      "21/21 [==============================] - 8s 399ms/step - loss: 9.5678e-04 - val_loss: 8.4459e-04\n",
      "Epoch 16/100\n",
      "21/21 [==============================] - 8s 392ms/step - loss: 9.1505e-04 - val_loss: 8.4592e-04\n",
      "Epoch 17/100\n",
      "21/21 [==============================] - 8s 397ms/step - loss: 8.7588e-04 - val_loss: 8.5299e-04\n",
      "Epoch 18/100\n",
      "21/21 [==============================] - 8s 395ms/step - loss: 8.6269e-04 - val_loss: 9.2957e-04\n",
      "Epoch 19/100\n",
      "21/21 [==============================] - 8s 403ms/step - loss: 8.1791e-04 - val_loss: 0.0011\n",
      "Epoch 20/100\n",
      "21/21 [==============================] - 9s 408ms/step - loss: 7.8704e-04 - val_loss: 7.5502e-04\n",
      "Epoch 21/100\n",
      "21/21 [==============================] - 8s 371ms/step - loss: 8.2756e-04 - val_loss: 9.2640e-04\n",
      "Epoch 22/100\n",
      "21/21 [==============================] - 7s 344ms/step - loss: 7.5760e-04 - val_loss: 8.8109e-04\n",
      "Epoch 23/100\n",
      "21/21 [==============================] - 7s 353ms/step - loss: 7.2964e-04 - val_loss: 7.0002e-04\n",
      "Epoch 24/100\n",
      "21/21 [==============================] - 7s 339ms/step - loss: 7.2658e-04 - val_loss: 7.1751e-04\n",
      "Epoch 25/100\n",
      "21/21 [==============================] - 8s 359ms/step - loss: 7.1498e-04 - val_loss: 0.0011\n",
      "Epoch 26/100\n",
      "21/21 [==============================] - 7s 349ms/step - loss: 7.0978e-04 - val_loss: 7.1147e-04\n",
      "Epoch 27/100\n",
      "21/21 [==============================] - 8s 372ms/step - loss: 7.3030e-04 - val_loss: 8.9972e-04\n",
      "Epoch 28/100\n",
      "21/21 [==============================] - 7s 331ms/step - loss: 6.8628e-04 - val_loss: 9.9624e-04\n",
      "Epoch 29/100\n",
      "21/21 [==============================] - 8s 362ms/step - loss: 6.4111e-04 - val_loss: 7.3573e-04\n",
      "Epoch 30/100\n",
      "21/21 [==============================] - 7s 331ms/step - loss: 6.7206e-04 - val_loss: 9.3147e-04\n",
      "Epoch 31/100\n",
      "21/21 [==============================] - 8s 371ms/step - loss: 6.3860e-04 - val_loss: 7.1044e-04\n",
      "Epoch 32/100\n",
      "21/21 [==============================] - 7s 338ms/step - loss: 6.3984e-04 - val_loss: 0.0011\n",
      "Epoch 33/100\n",
      "21/21 [==============================] - 9s 430ms/step - loss: 8.1131e-04 - val_loss: 8.8767e-04\n",
      "Epoch 34/100\n",
      "21/21 [==============================] - 8s 390ms/step - loss: 7.1360e-04 - val_loss: 6.1413e-04\n",
      "Epoch 35/100\n",
      "21/21 [==============================] - 8s 393ms/step - loss: 6.4941e-04 - val_loss: 8.3184e-04\n",
      "Epoch 36/100\n",
      "21/21 [==============================] - 8s 400ms/step - loss: 5.9496e-04 - val_loss: 7.6276e-04\n",
      "Epoch 37/100\n",
      "21/21 [==============================] - 8s 399ms/step - loss: 5.8612e-04 - val_loss: 5.8459e-04\n",
      "Epoch 38/100\n",
      "21/21 [==============================] - 8s 402ms/step - loss: 5.6708e-04 - val_loss: 6.8547e-04\n",
      "Epoch 39/100\n",
      "21/21 [==============================] - 8s 396ms/step - loss: 5.3712e-04 - val_loss: 6.6554e-04\n",
      "Epoch 40/100\n",
      "21/21 [==============================] - 9s 414ms/step - loss: 5.2594e-04 - val_loss: 6.0758e-04\n",
      "Epoch 41/100\n",
      "21/21 [==============================] - 9s 413ms/step - loss: 5.3113e-04 - val_loss: 5.0203e-04\n",
      "Epoch 42/100\n",
      "21/21 [==============================] - 8s 401ms/step - loss: 5.1440e-04 - val_loss: 6.1639e-04\n",
      "Epoch 43/100\n",
      "21/21 [==============================] - 8s 401ms/step - loss: 4.9537e-04 - val_loss: 6.4506e-04\n",
      "Epoch 44/100\n",
      "21/21 [==============================] - 8s 396ms/step - loss: 4.8724e-04 - val_loss: 5.5646e-04\n",
      "Epoch 45/100\n",
      "21/21 [==============================] - 8s 399ms/step - loss: 4.8453e-04 - val_loss: 6.4488e-04\n",
      "Epoch 46/100\n",
      "21/21 [==============================] - 8s 394ms/step - loss: 4.7417e-04 - val_loss: 6.7234e-04\n",
      "Epoch 47/100\n",
      "21/21 [==============================] - 9s 406ms/step - loss: 5.0613e-04 - val_loss: 6.4448e-04\n",
      "Epoch 48/100\n",
      "21/21 [==============================] - 8s 396ms/step - loss: 4.8317e-04 - val_loss: 4.2484e-04\n",
      "Epoch 49/100\n",
      "21/21 [==============================] - 8s 398ms/step - loss: 6.5494e-04 - val_loss: 4.6315e-04\n",
      "Epoch 50/100\n",
      "21/21 [==============================] - 8s 400ms/step - loss: 4.9685e-04 - val_loss: 4.3705e-04\n",
      "Epoch 51/100\n",
      "21/21 [==============================] - 8s 398ms/step - loss: 4.4187e-04 - val_loss: 4.2066e-04\n",
      "Epoch 52/100\n",
      "21/21 [==============================] - 9s 407ms/step - loss: 4.4998e-04 - val_loss: 4.6554e-04\n",
      "Epoch 53/100\n",
      "21/21 [==============================] - 9s 415ms/step - loss: 4.1330e-04 - val_loss: 4.8005e-04\n",
      "Epoch 54/100\n",
      "21/21 [==============================] - 9s 407ms/step - loss: 4.0975e-04 - val_loss: 4.2760e-04\n",
      "Epoch 55/100\n",
      "21/21 [==============================] - 9s 406ms/step - loss: 4.8913e-04 - val_loss: 3.9159e-04\n",
      "Epoch 56/100\n",
      "21/21 [==============================] - 9s 420ms/step - loss: 4.9737e-04 - val_loss: 3.6387e-04\n",
      "Epoch 57/100\n",
      "21/21 [==============================] - 9s 411ms/step - loss: 4.4743e-04 - val_loss: 4.4156e-04\n",
      "Epoch 58/100\n",
      "21/21 [==============================] - 9s 413ms/step - loss: 4.0831e-04 - val_loss: 4.4122e-04\n",
      "Epoch 59/100\n",
      "21/21 [==============================] - 7s 313ms/step - loss: 3.8801e-04 - val_loss: 4.5287e-04\n",
      "Epoch 60/100\n",
      "21/21 [==============================] - 7s 341ms/step - loss: 3.9867e-04 - val_loss: 4.2682e-04\n",
      "Epoch 61/100\n",
      "21/21 [==============================] - 6s 292ms/step - loss: 3.7777e-04 - val_loss: 5.2880e-04\n",
      "Epoch 62/100\n",
      "21/21 [==============================] - 7s 321ms/step - loss: 4.9486e-04 - val_loss: 4.7503e-04\n",
      "Epoch 63/100\n",
      "21/21 [==============================] - 5s 246ms/step - loss: 4.3457e-04 - val_loss: 4.9842e-04\n",
      "Epoch 64/100\n",
      "21/21 [==============================] - 5s 259ms/step - loss: 3.5274e-04 - val_loss: 4.9974e-04\n",
      "Epoch 65/100\n",
      "21/21 [==============================] - 7s 310ms/step - loss: 3.5304e-04 - val_loss: 4.5128e-04\n",
      "Epoch 66/100\n",
      "21/21 [==============================] - 5s 262ms/step - loss: 3.6166e-04 - val_loss: 6.1223e-04\n",
      "Epoch 67/100\n",
      "21/21 [==============================] - 7s 312ms/step - loss: 3.8243e-04 - val_loss: 3.7205e-04\n",
      "Epoch 68/100\n",
      "21/21 [==============================] - 6s 301ms/step - loss: 3.4706e-04 - val_loss: 3.4510e-04\n",
      "Epoch 69/100\n",
      "21/21 [==============================] - 6s 266ms/step - loss: 3.8391e-04 - val_loss: 3.9351e-04\n",
      "Epoch 70/100\n",
      "21/21 [==============================] - 7s 322ms/step - loss: 3.5469e-04 - val_loss: 3.6542e-04\n",
      "Epoch 71/100\n",
      "21/21 [==============================] - 5s 260ms/step - loss: 3.3976e-04 - val_loss: 4.1921e-04\n",
      "Epoch 72/100\n",
      "21/21 [==============================] - 7s 322ms/step - loss: 3.1473e-04 - val_loss: 3.5522e-04\n",
      "Epoch 73/100\n",
      "21/21 [==============================] - 7s 311ms/step - loss: 3.2036e-04 - val_loss: 3.8244e-04\n",
      "Epoch 74/100\n",
      "21/21 [==============================] - 6s 293ms/step - loss: 3.5885e-04 - val_loss: 4.3794e-04\n",
      "Epoch 75/100\n",
      "21/21 [==============================] - 7s 338ms/step - loss: 3.3512e-04 - val_loss: 3.4000e-04\n",
      "Epoch 76/100\n",
      "21/21 [==============================] - 6s 281ms/step - loss: 3.4638e-04 - val_loss: 3.1520e-04\n",
      "Epoch 77/100\n",
      "21/21 [==============================] - 7s 330ms/step - loss: 3.0376e-04 - val_loss: 3.9833e-04\n",
      "Epoch 78/100\n",
      "21/21 [==============================] - 6s 275ms/step - loss: 3.0476e-04 - val_loss: 3.0746e-04\n",
      "Epoch 79/100\n",
      "21/21 [==============================] - 6s 308ms/step - loss: 3.5492e-04 - val_loss: 4.0424e-04\n",
      "Epoch 80/100\n",
      "21/21 [==============================] - 7s 334ms/step - loss: 3.2535e-04 - val_loss: 4.0710e-04\n",
      "Epoch 81/100\n",
      "21/21 [==============================] - 6s 290ms/step - loss: 3.0695e-04 - val_loss: 3.8927e-04\n",
      "Epoch 82/100\n",
      "21/21 [==============================] - 8s 359ms/step - loss: 2.8966e-04 - val_loss: 3.3223e-04\n",
      "Epoch 83/100\n",
      "21/21 [==============================] - 6s 267ms/step - loss: 2.9122e-04 - val_loss: 2.5664e-04\n",
      "Epoch 84/100\n",
      "21/21 [==============================] - 7s 326ms/step - loss: 3.2086e-04 - val_loss: 3.8275e-04\n",
      "Epoch 85/100\n",
      "21/21 [==============================] - 7s 310ms/step - loss: 3.1369e-04 - val_loss: 3.0121e-04\n",
      "Epoch 86/100\n",
      "21/21 [==============================] - 7s 334ms/step - loss: 2.9462e-04 - val_loss: 2.6819e-04\n",
      "Epoch 87/100\n",
      "21/21 [==============================] - 6s 295ms/step - loss: 2.6607e-04 - val_loss: 2.5418e-04\n",
      "Epoch 88/100\n",
      "21/21 [==============================] - 7s 312ms/step - loss: 3.1153e-04 - val_loss: 2.8434e-04\n",
      "Epoch 89/100\n",
      "21/21 [==============================] - 7s 331ms/step - loss: 2.6461e-04 - val_loss: 3.6128e-04\n",
      "Epoch 90/100\n",
      "21/21 [==============================] - 6s 279ms/step - loss: 2.6796e-04 - val_loss: 3.1232e-04\n",
      "Epoch 91/100\n",
      "21/21 [==============================] - 8s 365ms/step - loss: 2.6454e-04 - val_loss: 3.4334e-04\n",
      "Epoch 92/100\n",
      "21/21 [==============================] - 6s 278ms/step - loss: 2.9649e-04 - val_loss: 2.7705e-04\n",
      "Epoch 93/100\n",
      "21/21 [==============================] - 7s 337ms/step - loss: 2.8305e-04 - val_loss: 3.2688e-04\n",
      "Epoch 94/100\n",
      "21/21 [==============================] - 6s 290ms/step - loss: 2.8128e-04 - val_loss: 2.9829e-04\n",
      "Epoch 95/100\n",
      "21/21 [==============================] - 7s 330ms/step - loss: 2.6830e-04 - val_loss: 3.0569e-04\n",
      "Epoch 96/100\n",
      "21/21 [==============================] - 7s 333ms/step - loss: 2.7545e-04 - val_loss: 2.1362e-04\n",
      "Epoch 97/100\n",
      "21/21 [==============================] - 6s 292ms/step - loss: 3.6599e-04 - val_loss: 3.1046e-04\n",
      "Epoch 98/100\n",
      "21/21 [==============================] - 7s 327ms/step - loss: 3.1328e-04 - val_loss: 4.2274e-04\n",
      "Epoch 99/100\n",
      "21/21 [==============================] - 6s 288ms/step - loss: 2.6890e-04 - val_loss: 3.2761e-04\n",
      "Epoch 100/100\n",
      "21/21 [==============================] - 7s 326ms/step - loss: 2.4397e-04 - val_loss: 2.1676e-04\n"
     ]
    },
    {
     "data": {
      "text/plain": [
       "<tensorflow.python.keras.callbacks.History at 0x1d3758a7250>"
      ]
     },
     "execution_count": 15,
     "metadata": {},
     "output_type": "execute_result"
    }
   ],
   "source": [
    "model.fit(X_train,y_train,validation_data=(X_test,y_test),epochs=100,batch_size=64,verbose=1)"
   ]
  },
  {
   "cell_type": "code",
   "execution_count": 16,
   "id": "8556beae",
   "metadata": {},
   "outputs": [],
   "source": [
    "train_predict=model.predict(X_train)\n",
    "test_predict=model.predict(X_test)"
   ]
  },
  {
   "cell_type": "code",
   "execution_count": 17,
   "id": "8415a950",
   "metadata": {},
   "outputs": [],
   "source": [
    "train_predict=scaler.inverse_transform(train_predict)\n",
    "test_predict=scaler.inverse_transform(test_predict)"
   ]
  },
  {
   "cell_type": "markdown",
   "id": "3c6c0fa1",
   "metadata": {},
   "source": [
    "IMPORTING REQUIRED LIBRARIES\n"
   ]
  },
  {
   "cell_type": "code",
   "execution_count": 18,
   "id": "0ff70aed",
   "metadata": {},
   "outputs": [
    {
     "data": {
      "text/plain": [
       "162.4593303510028"
      ]
     },
     "execution_count": 18,
     "metadata": {},
     "output_type": "execute_result"
    }
   ],
   "source": [
    "import math\n",
    "from sklearn.metrics import mean_squared_error\n",
    "math.sqrt(mean_squared_error(y_train,train_predict))"
   ]
  },
  {
   "cell_type": "code",
   "execution_count": 19,
   "id": "f494365e",
   "metadata": {},
   "outputs": [
    {
     "data": {
      "text/plain": [
       "107.37614011257132"
      ]
     },
     "execution_count": 19,
     "metadata": {},
     "output_type": "execute_result"
    }
   ],
   "source": [
    "math.sqrt(mean_squared_error(y_test,test_predict))"
   ]
  },
  {
   "cell_type": "markdown",
   "id": "e588e76b",
   "metadata": {},
   "source": [
    "PLOTTING BASELINES AND PREDICTIONS"
   ]
  },
  {
   "cell_type": "code",
   "execution_count": 20,
   "id": "ce13e3f4",
   "metadata": {},
   "outputs": [
    {
     "data": {
      "image/png": "[encoded data removed]",
      "text/plain": [
       "<Figure size 432x288 with 1 Axes>"
      ]
     },
     "metadata": {
      "needs_background": "light"
     },
     "output_type": "display_data"
    }
   ],
   "source": [
    "\n",
    "# shift train predictions for plotting\n",
    "look_back=100\n",
    "trainPredictPlot = np.empty_like(df_close)\n",
    "trainPredictPlot[:, :] = np.nan\n",
    "trainPredictPlot[look_back:len(train_predict)+look_back, :] = train_predict\n",
    "# shift test predictions for plotting\n",
    "testPredictPlot = np.empty_like(df_close)\n",
    "testPredictPlot[:, :] = np.nan\n",
    "testPredictPlot[len(train_predict)+(look_back*2)+1:len(df_close)-1, :] = test_predict\n",
    "\n",
    "plt.plot(scaler.inverse_transform(df_close))\n",
    "plt.plot(trainPredictPlot)\n",
    "plt.plot(testPredictPlot)\n",
    "plt.show()"
   ]
  },
  {
   "cell_type": "code",
   "execution_count": 21,
   "id": "c4610d02",
   "metadata": {},
   "outputs": [
    {
     "data": {
      "text/plain": [
       "611"
      ]
     },
     "execution_count": 21,
     "metadata": {},
     "output_type": "execute_result"
    }
   ],
   "source": [
    "len(test_data)"
   ]
  },
  {
   "cell_type": "code",
   "execution_count": 22,
   "id": "99fecddc",
   "metadata": {},
   "outputs": [
    {
     "data": {
      "text/plain": [
       "(1, 100)"
      ]
     },
     "execution_count": 22,
     "metadata": {},
     "output_type": "execute_result"
    }
   ],
   "source": [
    "x_input=test_data[len(test_data)-100:].reshape(1,-1)\n",
    "x_input.shape"
   ]
  },
  {
   "cell_type": "code",
   "execution_count": 23,
   "id": "6bac8cc6",
   "metadata": {},
   "outputs": [
    {
     "data": {
      "text/plain": [
       "[0.12479575163398693,\n",
       " 0.1384803921568627,\n",
       " 0.14011437908496732,\n",
       " 0.1388888888888889,\n",
       " 0.13541666666666663,\n",
       " 0.14011437908496732,\n",
       " 0.13807189542483655,\n",
       " 0.130718954248366,\n",
       " 0.130718954248366,\n",
       " 0.12867647058823528,\n",
       " 0.11846405228758167,\n",
       " 0.14644607843137253,\n",
       " 0.1480800653594771,\n",
       " 0.159109477124183,\n",
       " 0.15992647058823523,\n",
       " 0.1578839869281045,\n",
       " 0.16441993464052285,\n",
       " 0.178921568627451,\n",
       " 0.17933006535947704,\n",
       " 0.19260620915032678,\n",
       " 0.2081290849673203,\n",
       " 0.18974673202614378,\n",
       " 0.18055555555555558,\n",
       " 0.1823937908496731,\n",
       " 0.17708333333333326,\n",
       " 0.17810457516339862,\n",
       " 0.18055555555555558,\n",
       " 0.17810457516339862,\n",
       " 0.17851307189542487,\n",
       " 0.196078431372549,\n",
       " 0.18913398692810457,\n",
       " 0.1895424836601307,\n",
       " 0.19403594771241828,\n",
       " 0.19444444444444442,\n",
       " 0.20200163398692816,\n",
       " 0.19771241830065356,\n",
       " 0.19934640522875813,\n",
       " 0.19873366013071891,\n",
       " 0.19975490196078427,\n",
       " 0.21282679738562094,\n",
       " 0.21568627450980393,\n",
       " 0.2044526143790849,\n",
       " 0.21772875816993464,\n",
       " 0.21098856209150318,\n",
       " 0.21425653594771243,\n",
       " 0.1975081699346406,\n",
       " 0.1881127450980392,\n",
       " 0.17851307189542487,\n",
       " 0.17381535947712412,\n",
       " 0.16033496732026142,\n",
       " 0.16564542483660127,\n",
       " 0.1711601307189542,\n",
       " 0.17422385620915026,\n",
       " 0.1803513071895424,\n",
       " 0.1740196078431372,\n",
       " 0.16278594771241828,\n",
       " 0.1697303921568627,\n",
       " 0.17810457516339862,\n",
       " 0.1703431372549019,\n",
       " 0.16830065359477125,\n",
       " 0.17279411764705876,\n",
       " 0.1754493464052288,\n",
       " 0.18382352941176472,\n",
       " 0.19138071895424835,\n",
       " 0.18913398692810457,\n",
       " 0.1909722222222222,\n",
       " 0.17238562091503273,\n",
       " 0.16830065359477125,\n",
       " 0.16932189542483655,\n",
       " 0.1717728758169934,\n",
       " 0.16156045751633985,\n",
       " 0.14971405228758167,\n",
       " 0.15032679738562088,\n",
       " 0.1519607843137255,\n",
       " 0.1472630718954248,\n",
       " 0.14501633986928103,\n",
       " 0.14603758169934639,\n",
       " 0.12479575163398693,\n",
       " 0.13112745098039214,\n",
       " 0.11397058823529405,\n",
       " 0.11907679738562088,\n",
       " 0.12377450980392157,\n",
       " 0.13562091503267976,\n",
       " 0.12908496732026142,\n",
       " 0.1345996732026144,\n",
       " 0.12806372549019607,\n",
       " 0.13031045751633985,\n",
       " 0.12724673202614373,\n",
       " 0.13521241830065356,\n",
       " 0.1452205882352941,\n",
       " 0.15257352941176466,\n",
       " 0.14848856209150324,\n",
       " 0.14338235294117646,\n",
       " 0.14562908496732024,\n",
       " 0.1523692810457516,\n",
       " 0.15400326797385622,\n",
       " 0.14971405228758167,\n",
       " 0.16217320261437906,\n",
       " 0.16319444444444448,\n",
       " 0.16584967320261434]"
      ]
     },
     "execution_count": 23,
     "metadata": {},
     "output_type": "execute_result"
    }
   ],
   "source": [
    "temp_input=list(x_input)\n",
    "temp_input=temp_input[0].tolist()\n",
    "\n",
    "temp_input\n",
    "\n"
   ]
  },
  {
   "cell_type": "markdown",
   "id": "b4d916e6",
   "metadata": {},
   "source": [
    "PREDICTING FOR NEXT 20 DAYS"
   ]
  },
  {
   "cell_type": "code",
   "execution_count": 24,
   "id": "7757e8ad",
   "metadata": {},
   "outputs": [
    {
     "name": "stdout",
     "output_type": "stream",
     "text": [
      "[0.16214894]\n",
      "101\n",
      "1 day input [0.13848039 0.14011438 0.13888889 0.13541667 0.14011438 0.1380719\n",
      " 0.13071895 0.13071895 0.12867647 0.11846405 0.14644608 0.14808007\n",
      " 0.15910948 0.15992647 0.15788399 0.16441993 0.17892157 0.17933007\n",
      " 0.19260621 0.20812908 0.18974673 0.18055556 0.18239379 0.17708333\n",
      " 0.17810458 0.18055556 0.17810458 0.17851307 0.19607843 0.18913399\n",
      " 0.18954248 0.19403595 0.19444444 0.20200163 0.19771242 0.19934641\n",
      " 0.19873366 0.1997549  0.2128268  0.21568627 0.20445261 0.21772876\n",
      " 0.21098856 0.21425654 0.19750817 0.18811275 0.17851307 0.17381536\n",
      " 0.16033497 0.16564542 0.17116013 0.17422386 0.18035131 0.17401961\n",
      " 0.16278595 0.16973039 0.17810458 0.17034314 0.16830065 0.17279412\n",
      " 0.17544935 0.18382353 0.19138072 0.18913399 0.19097222 0.17238562\n",
      " 0.16830065 0.1693219  0.17177288 0.16156046 0.14971405 0.1503268\n",
      " 0.15196078 0.14726307 0.14501634 0.14603758 0.12479575 0.13112745\n",
      " 0.11397059 0.1190768  0.12377451 0.13562092 0.12908497 0.13459967\n",
      " 0.12806373 0.13031046 0.12724673 0.13521242 0.14522059 0.15257353\n",
      " 0.14848856 0.14338235 0.14562908 0.15236928 0.15400327 0.14971405\n",
      " 0.1621732  0.16319444 0.16584967 0.16214894]\n",
      "1 day output [[0.16391517]]\n",
      "2 day input [0.14011438 0.13888889 0.13541667 0.14011438 0.1380719  0.13071895\n",
      " 0.13071895 0.12867647 0.11846405 0.14644608 0.14808007 0.15910948\n",
      " 0.15992647 0.15788399 0.16441993 0.17892157 0.17933007 0.19260621\n",
      " 0.20812908 0.18974673 0.18055556 0.18239379 0.17708333 0.17810458\n",
      " 0.18055556 0.17810458 0.17851307 0.19607843 0.18913399 0.18954248\n",
      " 0.19403595 0.19444444 0.20200163 0.19771242 0.19934641 0.19873366\n",
      " 0.1997549  0.2128268  0.21568627 0.20445261 0.21772876 0.21098856\n",
      " 0.21425654 0.19750817 0.18811275 0.17851307 0.17381536 0.16033497\n",
      " 0.16564542 0.17116013 0.17422386 0.18035131 0.17401961 0.16278595\n",
      " 0.16973039 0.17810458 0.17034314 0.16830065 0.17279412 0.17544935\n",
      " 0.18382353 0.19138072 0.18913399 0.19097222 0.17238562 0.16830065\n",
      " 0.1693219  0.17177288 0.16156046 0.14971405 0.1503268  0.15196078\n",
      " 0.14726307 0.14501634 0.14603758 0.12479575 0.13112745 0.11397059\n",
      " 0.1190768  0.12377451 0.13562092 0.12908497 0.13459967 0.12806373\n",
      " 0.13031046 0.12724673 0.13521242 0.14522059 0.15257353 0.14848856\n",
      " 0.14338235 0.14562908 0.15236928 0.15400327 0.14971405 0.1621732\n",
      " 0.16319444 0.16584967 0.16214894 0.16391517]\n",
      "2 day output [[0.16396177]]\n",
      "3 day input [0.13888889 0.13541667 0.14011438 0.1380719  0.13071895 0.13071895\n",
      " 0.12867647 0.11846405 0.14644608 0.14808007 0.15910948 0.15992647\n",
      " 0.15788399 0.16441993 0.17892157 0.17933007 0.19260621 0.20812908\n",
      " 0.18974673 0.18055556 0.18239379 0.17708333 0.17810458 0.18055556\n",
      " 0.17810458 0.17851307 0.19607843 0.18913399 0.18954248 0.19403595\n",
      " 0.19444444 0.20200163 0.19771242 0.19934641 0.19873366 0.1997549\n",
      " 0.2128268  0.21568627 0.20445261 0.21772876 0.21098856 0.21425654\n",
      " 0.19750817 0.18811275 0.17851307 0.17381536 0.16033497 0.16564542\n",
      " 0.17116013 0.17422386 0.18035131 0.17401961 0.16278595 0.16973039\n",
      " 0.17810458 0.17034314 0.16830065 0.17279412 0.17544935 0.18382353\n",
      " 0.19138072 0.18913399 0.19097222 0.17238562 0.16830065 0.1693219\n",
      " 0.17177288 0.16156046 0.14971405 0.1503268  0.15196078 0.14726307\n",
      " 0.14501634 0.14603758 0.12479575 0.13112745 0.11397059 0.1190768\n",
      " 0.12377451 0.13562092 0.12908497 0.13459967 0.12806373 0.13031046\n",
      " 0.12724673 0.13521242 0.14522059 0.15257353 0.14848856 0.14338235\n",
      " 0.14562908 0.15236928 0.15400327 0.14971405 0.1621732  0.16319444\n",
      " 0.16584967 0.16214894 0.16391517 0.16396177]\n",
      "3 day output [[0.16328204]]\n",
      "4 day input [0.13541667 0.14011438 0.1380719  0.13071895 0.13071895 0.12867647\n",
      " 0.11846405 0.14644608 0.14808007 0.15910948 0.15992647 0.15788399\n",
      " 0.16441993 0.17892157 0.17933007 0.19260621 0.20812908 0.18974673\n",
      " 0.18055556 0.18239379 0.17708333 0.17810458 0.18055556 0.17810458\n",
      " 0.17851307 0.19607843 0.18913399 0.18954248 0.19403595 0.19444444\n",
      " 0.20200163 0.19771242 0.19934641 0.19873366 0.1997549  0.2128268\n",
      " 0.21568627 0.20445261 0.21772876 0.21098856 0.21425654 0.19750817\n",
      " 0.18811275 0.17851307 0.17381536 0.16033497 0.16564542 0.17116013\n",
      " 0.17422386 0.18035131 0.17401961 0.16278595 0.16973039 0.17810458\n",
      " 0.17034314 0.16830065 0.17279412 0.17544935 0.18382353 0.19138072\n",
      " 0.18913399 0.19097222 0.17238562 0.16830065 0.1693219  0.17177288\n",
      " 0.16156046 0.14971405 0.1503268  0.15196078 0.14726307 0.14501634\n",
      " 0.14603758 0.12479575 0.13112745 0.11397059 0.1190768  0.12377451\n",
      " 0.13562092 0.12908497 0.13459967 0.12806373 0.13031046 0.12724673\n",
      " 0.13521242 0.14522059 0.15257353 0.14848856 0.14338235 0.14562908\n",
      " 0.15236928 0.15400327 0.14971405 0.1621732  0.16319444 0.16584967\n",
      " 0.16214894 0.16391517 0.16396177 0.16328204]\n",
      "4 day output [[0.16252744]]\n",
      "5 day input [0.14011438 0.1380719  0.13071895 0.13071895 0.12867647 0.11846405\n",
      " 0.14644608 0.14808007 0.15910948 0.15992647 0.15788399 0.16441993\n",
      " 0.17892157 0.17933007 0.19260621 0.20812908 0.18974673 0.18055556\n",
      " 0.18239379 0.17708333 0.17810458 0.18055556 0.17810458 0.17851307\n",
      " 0.19607843 0.18913399 0.18954248 0.19403595 0.19444444 0.20200163\n",
      " 0.19771242 0.19934641 0.19873366 0.1997549  0.2128268  0.21568627\n",
      " 0.20445261 0.21772876 0.21098856 0.21425654 0.19750817 0.18811275\n",
      " 0.17851307 0.17381536 0.16033497 0.16564542 0.17116013 0.17422386\n",
      " 0.18035131 0.17401961 0.16278595 0.16973039 0.17810458 0.17034314\n",
      " 0.16830065 0.17279412 0.17544935 0.18382353 0.19138072 0.18913399\n",
      " 0.19097222 0.17238562 0.16830065 0.1693219  0.17177288 0.16156046\n",
      " 0.14971405 0.1503268  0.15196078 0.14726307 0.14501634 0.14603758\n",
      " 0.12479575 0.13112745 0.11397059 0.1190768  0.12377451 0.13562092\n",
      " 0.12908497 0.13459967 0.12806373 0.13031046 0.12724673 0.13521242\n",
      " 0.14522059 0.15257353 0.14848856 0.14338235 0.14562908 0.15236928\n",
      " 0.15400327 0.14971405 0.1621732  0.16319444 0.16584967 0.16214894\n",
      " 0.16391517 0.16396177 0.16328204 0.16252744]\n",
      "5 day output [[0.1618908]]\n",
      "6 day input [0.1380719  0.13071895 0.13071895 0.12867647 0.11846405 0.14644608\n",
      " 0.14808007 0.15910948 0.15992647 0.15788399 0.16441993 0.17892157\n",
      " 0.17933007 0.19260621 0.20812908 0.18974673 0.18055556 0.18239379\n",
      " 0.17708333 0.17810458 0.18055556 0.17810458 0.17851307 0.19607843\n",
      " 0.18913399 0.18954248 0.19403595 0.19444444 0.20200163 0.19771242\n",
      " 0.19934641 0.19873366 0.1997549  0.2128268  0.21568627 0.20445261\n",
      " 0.21772876 0.21098856 0.21425654 0.19750817 0.18811275 0.17851307\n",
      " 0.17381536 0.16033497 0.16564542 0.17116013 0.17422386 0.18035131\n",
      " 0.17401961 0.16278595 0.16973039 0.17810458 0.17034314 0.16830065\n",
      " 0.17279412 0.17544935 0.18382353 0.19138072 0.18913399 0.19097222\n",
      " 0.17238562 0.16830065 0.1693219  0.17177288 0.16156046 0.14971405\n",
      " 0.1503268  0.15196078 0.14726307 0.14501634 0.14603758 0.12479575\n",
      " 0.13112745 0.11397059 0.1190768  0.12377451 0.13562092 0.12908497\n",
      " 0.13459967 0.12806373 0.13031046 0.12724673 0.13521242 0.14522059\n",
      " 0.15257353 0.14848856 0.14338235 0.14562908 0.15236928 0.15400327\n",
      " 0.14971405 0.1621732  0.16319444 0.16584967 0.16214894 0.16391517\n",
      " 0.16396177 0.16328204 0.16252744 0.1618908 ]\n",
      "6 day output [[0.16132362]]\n",
      "7 day input [0.13071895 0.13071895 0.12867647 0.11846405 0.14644608 0.14808007\n",
      " 0.15910948 0.15992647 0.15788399 0.16441993 0.17892157 0.17933007\n",
      " 0.19260621 0.20812908 0.18974673 0.18055556 0.18239379 0.17708333\n",
      " 0.17810458 0.18055556 0.17810458 0.17851307 0.19607843 0.18913399\n",
      " 0.18954248 0.19403595 0.19444444 0.20200163 0.19771242 0.19934641\n",
      " 0.19873366 0.1997549  0.2128268  0.21568627 0.20445261 0.21772876\n",
      " 0.21098856 0.21425654 0.19750817 0.18811275 0.17851307 0.17381536\n",
      " 0.16033497 0.16564542 0.17116013 0.17422386 0.18035131 0.17401961\n",
      " 0.16278595 0.16973039 0.17810458 0.17034314 0.16830065 0.17279412\n",
      " 0.17544935 0.18382353 0.19138072 0.18913399 0.19097222 0.17238562\n",
      " 0.16830065 0.1693219  0.17177288 0.16156046 0.14971405 0.1503268\n",
      " 0.15196078 0.14726307 0.14501634 0.14603758 0.12479575 0.13112745\n",
      " 0.11397059 0.1190768  0.12377451 0.13562092 0.12908497 0.13459967\n",
      " 0.12806373 0.13031046 0.12724673 0.13521242 0.14522059 0.15257353\n",
      " 0.14848856 0.14338235 0.14562908 0.15236928 0.15400327 0.14971405\n",
      " 0.1621732  0.16319444 0.16584967 0.16214894 0.16391517 0.16396177\n",
      " 0.16328204 0.16252744 0.1618908  0.16132362]\n",
      "7 day output [[0.16074345]]\n",
      "8 day input [0.13071895 0.12867647 0.11846405 0.14644608 0.14808007 0.15910948\n",
      " 0.15992647 0.15788399 0.16441993 0.17892157 0.17933007 0.19260621\n",
      " 0.20812908 0.18974673 0.18055556 0.18239379 0.17708333 0.17810458\n",
      " 0.18055556 0.17810458 0.17851307 0.19607843 0.18913399 0.18954248\n",
      " 0.19403595 0.19444444 0.20200163 0.19771242 0.19934641 0.19873366\n",
      " 0.1997549  0.2128268  0.21568627 0.20445261 0.21772876 0.21098856\n",
      " 0.21425654 0.19750817 0.18811275 0.17851307 0.17381536 0.16033497\n",
      " 0.16564542 0.17116013 0.17422386 0.18035131 0.17401961 0.16278595\n",
      " 0.16973039 0.17810458 0.17034314 0.16830065 0.17279412 0.17544935\n",
      " 0.18382353 0.19138072 0.18913399 0.19097222 0.17238562 0.16830065\n",
      " 0.1693219  0.17177288 0.16156046 0.14971405 0.1503268  0.15196078\n",
      " 0.14726307 0.14501634 0.14603758 0.12479575 0.13112745 0.11397059\n",
      " 0.1190768  0.12377451 0.13562092 0.12908497 0.13459967 0.12806373\n",
      " 0.13031046 0.12724673 0.13521242 0.14522059 0.15257353 0.14848856\n",
      " 0.14338235 0.14562908 0.15236928 0.15400327 0.14971405 0.1621732\n",
      " 0.16319444 0.16584967 0.16214894 0.16391517 0.16396177 0.16328204\n",
      " 0.16252744 0.1618908  0.16132362 0.16074345]\n",
      "8 day output [[0.16011713]]\n",
      "9 day input [0.12867647 0.11846405 0.14644608 0.14808007 0.15910948 0.15992647\n",
      " 0.15788399 0.16441993 0.17892157 0.17933007 0.19260621 0.20812908\n",
      " 0.18974673 0.18055556 0.18239379 0.17708333 0.17810458 0.18055556\n",
      " 0.17810458 0.17851307 0.19607843 0.18913399 0.18954248 0.19403595\n",
      " 0.19444444 0.20200163 0.19771242 0.19934641 0.19873366 0.1997549\n",
      " 0.2128268  0.21568627 0.20445261 0.21772876 0.21098856 0.21425654\n",
      " 0.19750817 0.18811275 0.17851307 0.17381536 0.16033497 0.16564542\n",
      " 0.17116013 0.17422386 0.18035131 0.17401961 0.16278595 0.16973039\n",
      " 0.17810458 0.17034314 0.16830065 0.17279412 0.17544935 0.18382353\n",
      " 0.19138072 0.18913399 0.19097222 0.17238562 0.16830065 0.1693219\n",
      " 0.17177288 0.16156046 0.14971405 0.1503268  0.15196078 0.14726307\n",
      " 0.14501634 0.14603758 0.12479575 0.13112745 0.11397059 0.1190768\n",
      " 0.12377451 0.13562092 0.12908497 0.13459967 0.12806373 0.13031046\n",
      " 0.12724673 0.13521242 0.14522059 0.15257353 0.14848856 0.14338235\n",
      " 0.14562908 0.15236928 0.15400327 0.14971405 0.1621732  0.16319444\n",
      " 0.16584967 0.16214894 0.16391517 0.16396177 0.16328204 0.16252744\n",
      " 0.1618908  0.16132362 0.16074345 0.16011713]\n",
      "9 day output [[0.15945588]]\n",
      "10 day input [0.11846405 0.14644608 0.14808007 0.15910948 0.15992647 0.15788399\n",
      " 0.16441993 0.17892157 0.17933007 0.19260621 0.20812908 0.18974673\n",
      " 0.18055556 0.18239379 0.17708333 0.17810458 0.18055556 0.17810458\n",
      " 0.17851307 0.19607843 0.18913399 0.18954248 0.19403595 0.19444444\n",
      " 0.20200163 0.19771242 0.19934641 0.19873366 0.1997549  0.2128268\n",
      " 0.21568627 0.20445261 0.21772876 0.21098856 0.21425654 0.19750817\n",
      " 0.18811275 0.17851307 0.17381536 0.16033497 0.16564542 0.17116013\n",
      " 0.17422386 0.18035131 0.17401961 0.16278595 0.16973039 0.17810458\n",
      " 0.17034314 0.16830065 0.17279412 0.17544935 0.18382353 0.19138072\n",
      " 0.18913399 0.19097222 0.17238562 0.16830065 0.1693219  0.17177288\n",
      " 0.16156046 0.14971405 0.1503268  0.15196078 0.14726307 0.14501634\n",
      " 0.14603758 0.12479575 0.13112745 0.11397059 0.1190768  0.12377451\n",
      " 0.13562092 0.12908497 0.13459967 0.12806373 0.13031046 0.12724673\n",
      " 0.13521242 0.14522059 0.15257353 0.14848856 0.14338235 0.14562908\n",
      " 0.15236928 0.15400327 0.14971405 0.1621732  0.16319444 0.16584967\n",
      " 0.16214894 0.16391517 0.16396177 0.16328204 0.16252744 0.1618908\n",
      " 0.16132362 0.16074345 0.16011713 0.15945588]\n",
      "10 day output [[0.15878499]]\n",
      "11 day input [0.14644608 0.14808007 0.15910948 0.15992647 0.15788399 0.16441993\n",
      " 0.17892157 0.17933007 0.19260621 0.20812908 0.18974673 0.18055556\n",
      " 0.18239379 0.17708333 0.17810458 0.18055556 0.17810458 0.17851307\n",
      " 0.19607843 0.18913399 0.18954248 0.19403595 0.19444444 0.20200163\n",
      " 0.19771242 0.19934641 0.19873366 0.1997549  0.2128268  0.21568627\n",
      " 0.20445261 0.21772876 0.21098856 0.21425654 0.19750817 0.18811275\n",
      " 0.17851307 0.17381536 0.16033497 0.16564542 0.17116013 0.17422386\n",
      " 0.18035131 0.17401961 0.16278595 0.16973039 0.17810458 0.17034314\n",
      " 0.16830065 0.17279412 0.17544935 0.18382353 0.19138072 0.18913399\n",
      " 0.19097222 0.17238562 0.16830065 0.1693219  0.17177288 0.16156046\n",
      " 0.14971405 0.1503268  0.15196078 0.14726307 0.14501634 0.14603758\n",
      " 0.12479575 0.13112745 0.11397059 0.1190768  0.12377451 0.13562092\n",
      " 0.12908497 0.13459967 0.12806373 0.13031046 0.12724673 0.13521242\n",
      " 0.14522059 0.15257353 0.14848856 0.14338235 0.14562908 0.15236928\n",
      " 0.15400327 0.14971405 0.1621732  0.16319444 0.16584967 0.16214894\n",
      " 0.16391517 0.16396177 0.16328204 0.16252744 0.1618908  0.16132362\n",
      " 0.16074345 0.16011713 0.15945588 0.15878499]\n",
      "11 day output [[0.1581242]]\n",
      "12 day input [0.14808007 0.15910948 0.15992647 0.15788399 0.16441993 0.17892157\n",
      " 0.17933007 0.19260621 0.20812908 0.18974673 0.18055556 0.18239379\n",
      " 0.17708333 0.17810458 0.18055556 0.17810458 0.17851307 0.19607843\n",
      " 0.18913399 0.18954248 0.19403595 0.19444444 0.20200163 0.19771242\n",
      " 0.19934641 0.19873366 0.1997549  0.2128268  0.21568627 0.20445261\n",
      " 0.21772876 0.21098856 0.21425654 0.19750817 0.18811275 0.17851307\n",
      " 0.17381536 0.16033497 0.16564542 0.17116013 0.17422386 0.18035131\n",
      " 0.17401961 0.16278595 0.16973039 0.17810458 0.17034314 0.16830065\n",
      " 0.17279412 0.17544935 0.18382353 0.19138072 0.18913399 0.19097222\n",
      " 0.17238562 0.16830065 0.1693219  0.17177288 0.16156046 0.14971405\n",
      " 0.1503268  0.15196078 0.14726307 0.14501634 0.14603758 0.12479575\n",
      " 0.13112745 0.11397059 0.1190768  0.12377451 0.13562092 0.12908497\n",
      " 0.13459967 0.12806373 0.13031046 0.12724673 0.13521242 0.14522059\n",
      " 0.15257353 0.14848856 0.14338235 0.14562908 0.15236928 0.15400327\n",
      " 0.14971405 0.1621732  0.16319444 0.16584967 0.16214894 0.16391517\n",
      " 0.16396177 0.16328204 0.16252744 0.1618908  0.16132362 0.16074345\n",
      " 0.16011713 0.15945588 0.15878499 0.15812419]\n",
      "12 day output [[0.1574833]]\n",
      "13 day input [0.15910948 0.15992647 0.15788399 0.16441993 0.17892157 0.17933007\n",
      " 0.19260621 0.20812908 0.18974673 0.18055556 0.18239379 0.17708333\n",
      " 0.17810458 0.18055556 0.17810458 0.17851307 0.19607843 0.18913399\n",
      " 0.18954248 0.19403595 0.19444444 0.20200163 0.19771242 0.19934641\n",
      " 0.19873366 0.1997549  0.2128268  0.21568627 0.20445261 0.21772876\n",
      " 0.21098856 0.21425654 0.19750817 0.18811275 0.17851307 0.17381536\n",
      " 0.16033497 0.16564542 0.17116013 0.17422386 0.18035131 0.17401961\n",
      " 0.16278595 0.16973039 0.17810458 0.17034314 0.16830065 0.17279412\n",
      " 0.17544935 0.18382353 0.19138072 0.18913399 0.19097222 0.17238562\n",
      " 0.16830065 0.1693219  0.17177288 0.16156046 0.14971405 0.1503268\n",
      " 0.15196078 0.14726307 0.14501634 0.14603758 0.12479575 0.13112745\n",
      " 0.11397059 0.1190768  0.12377451 0.13562092 0.12908497 0.13459967\n",
      " 0.12806373 0.13031046 0.12724673 0.13521242 0.14522059 0.15257353\n",
      " 0.14848856 0.14338235 0.14562908 0.15236928 0.15400327 0.14971405\n",
      " 0.1621732  0.16319444 0.16584967 0.16214894 0.16391517 0.16396177\n",
      " 0.16328204 0.16252744 0.1618908  0.16132362 0.16074345 0.16011713\n",
      " 0.15945588 0.15878499 0.15812419 0.15748329]\n",
      "13 day output [[0.15686566]]\n",
      "14 day input [0.15992647 0.15788399 0.16441993 0.17892157 0.17933007 0.19260621\n",
      " 0.20812908 0.18974673 0.18055556 0.18239379 0.17708333 0.17810458\n",
      " 0.18055556 0.17810458 0.17851307 0.19607843 0.18913399 0.18954248\n",
      " 0.19403595 0.19444444 0.20200163 0.19771242 0.19934641 0.19873366\n",
      " 0.1997549  0.2128268  0.21568627 0.20445261 0.21772876 0.21098856\n",
      " 0.21425654 0.19750817 0.18811275 0.17851307 0.17381536 0.16033497\n",
      " 0.16564542 0.17116013 0.17422386 0.18035131 0.17401961 0.16278595\n",
      " 0.16973039 0.17810458 0.17034314 0.16830065 0.17279412 0.17544935\n",
      " 0.18382353 0.19138072 0.18913399 0.19097222 0.17238562 0.16830065\n",
      " 0.1693219  0.17177288 0.16156046 0.14971405 0.1503268  0.15196078\n",
      " 0.14726307 0.14501634 0.14603758 0.12479575 0.13112745 0.11397059\n",
      " 0.1190768  0.12377451 0.13562092 0.12908497 0.13459967 0.12806373\n",
      " 0.13031046 0.12724673 0.13521242 0.14522059 0.15257353 0.14848856\n",
      " 0.14338235 0.14562908 0.15236928 0.15400327 0.14971405 0.1621732\n",
      " 0.16319444 0.16584967 0.16214894 0.16391517 0.16396177 0.16328204\n",
      " 0.16252744 0.1618908  0.16132362 0.16074345 0.16011713 0.15945588\n",
      " 0.15878499 0.15812419 0.15748329 0.15686566]\n",
      "14 day output [[0.15627237]]\n",
      "15 day input [0.15788399 0.16441993 0.17892157 0.17933007 0.19260621 0.20812908\n",
      " 0.18974673 0.18055556 0.18239379 0.17708333 0.17810458 0.18055556\n",
      " 0.17810458 0.17851307 0.19607843 0.18913399 0.18954248 0.19403595\n",
      " 0.19444444 0.20200163 0.19771242 0.19934641 0.19873366 0.1997549\n",
      " 0.2128268  0.21568627 0.20445261 0.21772876 0.21098856 0.21425654\n",
      " 0.19750817 0.18811275 0.17851307 0.17381536 0.16033497 0.16564542\n",
      " 0.17116013 0.17422386 0.18035131 0.17401961 0.16278595 0.16973039\n",
      " 0.17810458 0.17034314 0.16830065 0.17279412 0.17544935 0.18382353\n",
      " 0.19138072 0.18913399 0.19097222 0.17238562 0.16830065 0.1693219\n",
      " 0.17177288 0.16156046 0.14971405 0.1503268  0.15196078 0.14726307\n",
      " 0.14501634 0.14603758 0.12479575 0.13112745 0.11397059 0.1190768\n",
      " 0.12377451 0.13562092 0.12908497 0.13459967 0.12806373 0.13031046\n",
      " 0.12724673 0.13521242 0.14522059 0.15257353 0.14848856 0.14338235\n",
      " 0.14562908 0.15236928 0.15400327 0.14971405 0.1621732  0.16319444\n",
      " 0.16584967 0.16214894 0.16391517 0.16396177 0.16328204 0.16252744\n",
      " 0.1618908  0.16132362 0.16074345 0.16011713 0.15945588 0.15878499\n",
      " 0.15812419 0.15748329 0.15686566 0.15627237]\n",
      "15 day output [[0.15570435]]\n",
      "16 day input [0.16441993 0.17892157 0.17933007 0.19260621 0.20812908 0.18974673\n",
      " 0.18055556 0.18239379 0.17708333 0.17810458 0.18055556 0.17810458\n",
      " 0.17851307 0.19607843 0.18913399 0.18954248 0.19403595 0.19444444\n",
      " 0.20200163 0.19771242 0.19934641 0.19873366 0.1997549  0.2128268\n",
      " 0.21568627 0.20445261 0.21772876 0.21098856 0.21425654 0.19750817\n",
      " 0.18811275 0.17851307 0.17381536 0.16033497 0.16564542 0.17116013\n",
      " 0.17422386 0.18035131 0.17401961 0.16278595 0.16973039 0.17810458\n",
      " 0.17034314 0.16830065 0.17279412 0.17544935 0.18382353 0.19138072\n",
      " 0.18913399 0.19097222 0.17238562 0.16830065 0.1693219  0.17177288\n",
      " 0.16156046 0.14971405 0.1503268  0.15196078 0.14726307 0.14501634\n",
      " 0.14603758 0.12479575 0.13112745 0.11397059 0.1190768  0.12377451\n",
      " 0.13562092 0.12908497 0.13459967 0.12806373 0.13031046 0.12724673\n",
      " 0.13521242 0.14522059 0.15257353 0.14848856 0.14338235 0.14562908\n",
      " 0.15236928 0.15400327 0.14971405 0.1621732  0.16319444 0.16584967\n",
      " 0.16214894 0.16391517 0.16396177 0.16328204 0.16252744 0.1618908\n",
      " 0.16132362 0.16074345 0.16011713 0.15945588 0.15878499 0.15812419\n",
      " 0.15748329 0.15686566 0.15627237 0.15570435]\n",
      "16 day output [[0.15516293]]\n",
      "17 day input [0.17892157 0.17933007 0.19260621 0.20812908 0.18974673 0.18055556\n",
      " 0.18239379 0.17708333 0.17810458 0.18055556 0.17810458 0.17851307\n",
      " 0.19607843 0.18913399 0.18954248 0.19403595 0.19444444 0.20200163\n",
      " 0.19771242 0.19934641 0.19873366 0.1997549  0.2128268  0.21568627\n",
      " 0.20445261 0.21772876 0.21098856 0.21425654 0.19750817 0.18811275\n",
      " 0.17851307 0.17381536 0.16033497 0.16564542 0.17116013 0.17422386\n",
      " 0.18035131 0.17401961 0.16278595 0.16973039 0.17810458 0.17034314\n",
      " 0.16830065 0.17279412 0.17544935 0.18382353 0.19138072 0.18913399\n",
      " 0.19097222 0.17238562 0.16830065 0.1693219  0.17177288 0.16156046\n",
      " 0.14971405 0.1503268  0.15196078 0.14726307 0.14501634 0.14603758\n",
      " 0.12479575 0.13112745 0.11397059 0.1190768  0.12377451 0.13562092\n",
      " 0.12908497 0.13459967 0.12806373 0.13031046 0.12724673 0.13521242\n",
      " 0.14522059 0.15257353 0.14848856 0.14338235 0.14562908 0.15236928\n",
      " 0.15400327 0.14971405 0.1621732  0.16319444 0.16584967 0.16214894\n",
      " 0.16391517 0.16396177 0.16328204 0.16252744 0.1618908  0.16132362\n",
      " 0.16074345 0.16011713 0.15945588 0.15878499 0.15812419 0.15748329\n",
      " 0.15686566 0.15627237 0.15570435 0.15516293]\n",
      "17 day output [[0.15464917]]\n",
      "18 day input [0.17933007 0.19260621 0.20812908 0.18974673 0.18055556 0.18239379\n",
      " 0.17708333 0.17810458 0.18055556 0.17810458 0.17851307 0.19607843\n",
      " 0.18913399 0.18954248 0.19403595 0.19444444 0.20200163 0.19771242\n",
      " 0.19934641 0.19873366 0.1997549  0.2128268  0.21568627 0.20445261\n",
      " 0.21772876 0.21098856 0.21425654 0.19750817 0.18811275 0.17851307\n",
      " 0.17381536 0.16033497 0.16564542 0.17116013 0.17422386 0.18035131\n",
      " 0.17401961 0.16278595 0.16973039 0.17810458 0.17034314 0.16830065\n",
      " 0.17279412 0.17544935 0.18382353 0.19138072 0.18913399 0.19097222\n",
      " 0.17238562 0.16830065 0.1693219  0.17177288 0.16156046 0.14971405\n",
      " 0.1503268  0.15196078 0.14726307 0.14501634 0.14603758 0.12479575\n",
      " 0.13112745 0.11397059 0.1190768  0.12377451 0.13562092 0.12908497\n",
      " 0.13459967 0.12806373 0.13031046 0.12724673 0.13521242 0.14522059\n",
      " 0.15257353 0.14848856 0.14338235 0.14562908 0.15236928 0.15400327\n",
      " 0.14971405 0.1621732  0.16319444 0.16584967 0.16214894 0.16391517\n",
      " 0.16396177 0.16328204 0.16252744 0.1618908  0.16132362 0.16074345\n",
      " 0.16011713 0.15945588 0.15878499 0.15812419 0.15748329 0.15686566\n",
      " 0.15627237 0.15570435 0.15516293 0.15464917]\n",
      "18 day output [[0.15416384]]\n",
      "19 day input [0.19260621 0.20812908 0.18974673 0.18055556 0.18239379 0.17708333\n",
      " 0.17810458 0.18055556 0.17810458 0.17851307 0.19607843 0.18913399\n",
      " 0.18954248 0.19403595 0.19444444 0.20200163 0.19771242 0.19934641\n",
      " 0.19873366 0.1997549  0.2128268  0.21568627 0.20445261 0.21772876\n",
      " 0.21098856 0.21425654 0.19750817 0.18811275 0.17851307 0.17381536\n",
      " 0.16033497 0.16564542 0.17116013 0.17422386 0.18035131 0.17401961\n",
      " 0.16278595 0.16973039 0.17810458 0.17034314 0.16830065 0.17279412\n",
      " 0.17544935 0.18382353 0.19138072 0.18913399 0.19097222 0.17238562\n",
      " 0.16830065 0.1693219  0.17177288 0.16156046 0.14971405 0.1503268\n",
      " 0.15196078 0.14726307 0.14501634 0.14603758 0.12479575 0.13112745\n",
      " 0.11397059 0.1190768  0.12377451 0.13562092 0.12908497 0.13459967\n",
      " 0.12806373 0.13031046 0.12724673 0.13521242 0.14522059 0.15257353\n",
      " 0.14848856 0.14338235 0.14562908 0.15236928 0.15400327 0.14971405\n",
      " 0.1621732  0.16319444 0.16584967 0.16214894 0.16391517 0.16396177\n",
      " 0.16328204 0.16252744 0.1618908  0.16132362 0.16074345 0.16011713\n",
      " 0.15945588 0.15878499 0.15812419 0.15748329 0.15686566 0.15627237\n",
      " 0.15570435 0.15516293 0.15464917 0.15416384]\n",
      "19 day output [[0.15370731]]\n",
      "[[0.16214893758296967], [0.16391517221927643], [0.1639617681503296], [0.16328203678131104], [0.1625274419784546], [0.16189080476760864], [0.16132362186908722], [0.16074344515800476], [0.16011713445186615], [0.15945588052272797], [0.15878498554229736], [0.1581241935491562], [0.1574832946062088], [0.156865656375885], [0.15627236664295197], [0.1557043492794037], [0.15516293048858643], [0.15464916825294495], [0.15416383743286133], [0.15370731055736542]]\n"
     ]
    }
   ],
   "source": [
    "from numpy import array\n",
    "\n",
    "lst_output=[]\n",
    "Next_no_of_days=20\n",
    "n_steps=100\n",
    "i=0\n",
    "while(i<Next_no_of_days):\n",
    "    \n",
    "    if(len(temp_input)>100):\n",
    "        #print(temp_input)\n",
    "        x_input=np.array(temp_input[1:])\n",
    "        print(\"{} day input {}\".format(i,x_input))\n",
    "        x_input=x_input.reshape(1,-1)\n",
    "        x_input = x_input.reshape((1, n_steps, 1))\n",
    "        #print(x_input)\n",
    "        yhat = model.predict(x_input, verbose=0)\n",
    "        print(\"{} day output {}\".format(i,yhat))\n",
    "        temp_input.extend(yhat[0].tolist())\n",
    "        temp_input=temp_input[1:]\n",
    "        #print(temp_input)\n",
    "        lst_output.extend(yhat.tolist())\n",
    "        i=i+1\n",
    "    else:\n",
    "        x_input = x_input.reshape((1, n_steps,1))\n",
    "        yhat = model.predict(x_input, verbose=0)\n",
    "        print(yhat[0])\n",
    "        temp_input.extend(yhat[0].tolist())\n",
    "        print(len(temp_input))\n",
    "        lst_output.extend(yhat.tolist())\n",
    "        i=i+1\n",
    "    \n",
    "\n",
    "print(lst_output)"
   ]
  },
  {
   "cell_type": "code",
   "execution_count": 25,
   "id": "2b4af235",
   "metadata": {},
   "outputs": [
    {
     "data": {
      "text/plain": [
       "[<matplotlib.lines.Line2D at 0x1d3059c9a00>]"
      ]
     },
     "execution_count": 25,
     "metadata": {},
     "output_type": "execute_result"
    },
    {
     "data": {
      "image/png": "[encoded data removed]",
      "text/plain": [
       "<Figure size 432x288 with 1 Axes>"
      ]
     },
     "metadata": {
      "needs_background": "light"
     },
     "output_type": "display_data"
    }
   ],
   "source": [
    "df1=df_close.tolist()\n",
    "df1.extend(lst_output)\n",
    "df1=scaler.inverse_transform(df1).tolist()\n",
    "plt.plot(df1)"
   ]
  },
  {
   "cell_type": "code",
   "execution_count": null,
   "id": "cbf70a4f",
   "metadata": {},
   "outputs": [],
   "source": []
  }
 ],
 "metadata": {
  "kernelspec": {
   "display_name": "Python 3",
   "language": "python",
   "name": "python3"
  },
  "language_info": {
   "codemirror_mode": {
    "name": "ipython",
    "version": 3
   },
   "file_extension": ".py",
   "mimetype": "text/x-python",
   "name": "python",
   "nbconvert_exporter": "python",
   "pygments_lexer": "ipython3",
   "version": "3.8.8"
  }
 },
 "nbformat": 4,
 "nbformat_minor": 5
}
